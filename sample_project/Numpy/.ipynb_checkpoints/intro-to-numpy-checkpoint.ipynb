{
 "cells": [
  {
   "cell_type": "markdown",
   "id": "c6c9c9ea",
   "metadata": {},
   "source": [
    "# Numpy\n",
    "it's written in c language so it's fast \n",
    "\n",
    "vectorization via broadcasting(avoids loops)\n",
    "\n",
    "backbone of other python scintific pacakges"
   ]
  },
  {
   "cell_type": "code",
   "execution_count": 1,
   "id": "e671548a",
   "metadata": {},
   "outputs": [],
   "source": [
    "import numpy as np"
   ]
  },
  {
   "cell_type": "markdown",
   "id": "3d2ffadf",
   "metadata": {},
   "source": [
    "# DataTypes & Atrributes\n",
    "1d array - vector\n",
    "\n",
    "2d array - matrix"
   ]
  },
  {
   "cell_type": "code",
   "execution_count": 2,
   "id": "1beae9d6",
   "metadata": {},
   "outputs": [
    {
     "data": {
      "text/plain": [
       "array([1, 2, 3])"
      ]
     },
     "execution_count": 2,
     "metadata": {},
     "output_type": "execute_result"
    }
   ],
   "source": [
    "# Numpy's main datatype ndarray - n dimension array\n",
    "a1 = np.array([1, 2, 3])\n",
    "a1"
   ]
  },
  {
   "cell_type": "code",
   "execution_count": 3,
   "id": "87dea9f7",
   "metadata": {},
   "outputs": [
    {
     "data": {
      "text/plain": [
       "array([[1. , 2.2, 3. ],\n",
       "       [4.1, 5. , 6.4]])"
      ]
     },
     "execution_count": 3,
     "metadata": {},
     "output_type": "execute_result"
    }
   ],
   "source": [
    "a2 = np.array([[1, 2.2, 3], \n",
    "             [4.1, 5, 6.4]])\n",
    "\n",
    "a2"
   ]
  },
  {
   "cell_type": "code",
   "execution_count": 4,
   "id": "162cdb99",
   "metadata": {},
   "outputs": [
    {
     "data": {
      "text/plain": [
       "array([[[ 1,  2,  3],\n",
       "        [ 4,  5,  6]],\n",
       "\n",
       "       [[ 7,  8,  9],\n",
       "        [10, 11, 12]],\n",
       "\n",
       "       [[13, 14, 15],\n",
       "        [16, 17, 18]]])"
      ]
     },
     "execution_count": 4,
     "metadata": {},
     "output_type": "execute_result"
    }
   ],
   "source": [
    "a3 = np.array([[[1, 2, 3],\n",
    "               [4, 5, 6]],\n",
    "               [[7, 8, 9],\n",
    "              [10 ,11, 12]],\n",
    "              [[13, 14, 15],\n",
    "              [16, 17, 18]]])\n",
    "\n",
    "a3"
   ]
  },
  {
   "cell_type": "code",
   "execution_count": 5,
   "id": "1083542e",
   "metadata": {},
   "outputs": [
    {
     "data": {
      "text/plain": [
       "((3,), (2, 3), (3, 2, 3))"
      ]
     },
     "execution_count": 5,
     "metadata": {},
     "output_type": "execute_result"
    }
   ],
   "source": [
    "# to get shape\n",
    "a1.shape, a2.shape, a3.shape"
   ]
  },
  {
   "cell_type": "code",
   "execution_count": 6,
   "id": "0419cb01",
   "metadata": {},
   "outputs": [
    {
     "data": {
      "text/plain": [
       "(1, 2, 3)"
      ]
     },
     "execution_count": 6,
     "metadata": {},
     "output_type": "execute_result"
    }
   ],
   "source": [
    "# to get dimensions\n",
    "a1.ndim, a2.ndim, a3.ndim"
   ]
  },
  {
   "cell_type": "code",
   "execution_count": 7,
   "id": "afb4991b",
   "metadata": {},
   "outputs": [
    {
     "data": {
      "text/plain": [
       "(dtype('int32'), dtype('float64'), dtype('int32'))"
      ]
     },
     "execution_count": 7,
     "metadata": {},
     "output_type": "execute_result"
    }
   ],
   "source": [
    "# dtypes\n",
    "a1.dtype, a2.dtype, a3.dtype"
   ]
  },
  {
   "cell_type": "code",
   "execution_count": 8,
   "id": "cdfe503a",
   "metadata": {},
   "outputs": [
    {
     "data": {
      "text/plain": [
       "(3, 6, 18)"
      ]
     },
     "execution_count": 8,
     "metadata": {},
     "output_type": "execute_result"
    }
   ],
   "source": [
    "# size returns no of elements in array\n",
    "a1.size, a2.size, a3.size"
   ]
  },
  {
   "cell_type": "code",
   "execution_count": 9,
   "id": "6b7e0d3f",
   "metadata": {},
   "outputs": [
    {
     "data": {
      "text/plain": [
       "(numpy.ndarray, numpy.ndarray, numpy.ndarray)"
      ]
     },
     "execution_count": 9,
     "metadata": {},
     "output_type": "execute_result"
    }
   ],
   "source": [
    "# ndarray is an universal type of numpy\n",
    "type(a1), type(a2), type(a3)"
   ]
  },
  {
   "cell_type": "code",
   "execution_count": 10,
   "id": "336e8f0b",
   "metadata": {},
   "outputs": [
    {
     "data": {
      "text/html": [
       "<div>\n",
       "<style scoped>\n",
       "    .dataframe tbody tr th:only-of-type {\n",
       "        vertical-align: middle;\n",
       "    }\n",
       "\n",
       "    .dataframe tbody tr th {\n",
       "        vertical-align: top;\n",
       "    }\n",
       "\n",
       "    .dataframe thead th {\n",
       "        text-align: right;\n",
       "    }\n",
       "</style>\n",
       "<table border=\"1\" class=\"dataframe\">\n",
       "  <thead>\n",
       "    <tr style=\"text-align: right;\">\n",
       "      <th></th>\n",
       "      <th>0</th>\n",
       "      <th>1</th>\n",
       "      <th>2</th>\n",
       "    </tr>\n",
       "  </thead>\n",
       "  <tbody>\n",
       "    <tr>\n",
       "      <th>0</th>\n",
       "      <td>1.0</td>\n",
       "      <td>2.2</td>\n",
       "      <td>3.0</td>\n",
       "    </tr>\n",
       "    <tr>\n",
       "      <th>1</th>\n",
       "      <td>4.1</td>\n",
       "      <td>5.0</td>\n",
       "      <td>6.4</td>\n",
       "    </tr>\n",
       "  </tbody>\n",
       "</table>\n",
       "</div>"
      ],
      "text/plain": [
       "     0    1    2\n",
       "0  1.0  2.2  3.0\n",
       "1  4.1  5.0  6.4"
      ]
     },
     "execution_count": 10,
     "metadata": {},
     "output_type": "execute_result"
    }
   ],
   "source": [
    "# create a dataframe from numpy array - remember you can't pass 3d array\n",
    "import pandas as pd\n",
    "df = pd.DataFrame(a2)\n",
    "df"
   ]
  },
  {
   "cell_type": "code",
   "execution_count": 11,
   "id": "8b783fcb",
   "metadata": {},
   "outputs": [
    {
     "data": {
      "text/plain": [
       "array([[1. , 2.2, 3. ],\n",
       "       [4.1, 5. , 6.4]])"
      ]
     },
     "execution_count": 11,
     "metadata": {},
     "output_type": "execute_result"
    }
   ],
   "source": [
    "a2"
   ]
  },
  {
   "cell_type": "markdown",
   "id": "65709f70",
   "metadata": {},
   "source": [
    "# 2. Creating Arrays"
   ]
  },
  {
   "cell_type": "code",
   "execution_count": 12,
   "id": "8408579d",
   "metadata": {},
   "outputs": [
    {
     "data": {
      "text/plain": [
       "array([[1, 1],\n",
       "       [1, 1]])"
      ]
     },
     "execution_count": 12,
     "metadata": {},
     "output_type": "execute_result"
    }
   ],
   "source": [
    "          # fills with 1\n",
    "ones = np.ones(shape=(2, 2), dtype=int)\n",
    "ones"
   ]
  },
  {
   "cell_type": "code",
   "execution_count": 13,
   "id": "24289341",
   "metadata": {},
   "outputs": [
    {
     "data": {
      "text/plain": [
       "array([[0., 0., 0.],\n",
       "       [0., 0., 0.]])"
      ]
     },
     "execution_count": 13,
     "metadata": {},
     "output_type": "execute_result"
    }
   ],
   "source": [
    "zeros = np.zeros(shape=(2, 3))\n",
    "zeros\n",
    "# by default it returns in float"
   ]
  },
  {
   "cell_type": "code",
   "execution_count": 14,
   "id": "764ce960",
   "metadata": {},
   "outputs": [
    {
     "data": {
      "text/plain": [
       "array([ 0,  2,  4,  6,  8, 10])"
      ]
     },
     "execution_count": 14,
     "metadata": {},
     "output_type": "execute_result"
    }
   ],
   "source": [
    "range_array = np.arange(0, 12, 2) # like range in list\n",
    "range_array"
   ]
  },
  {
   "cell_type": "code",
   "execution_count": 15,
   "id": "7294a997",
   "metadata": {},
   "outputs": [
    {
     "data": {
      "text/plain": [
       "array([[2, 8],\n",
       "       [6, 2],\n",
       "       [4, 9]])"
      ]
     },
     "execution_count": 15,
     "metadata": {},
     "output_type": "execute_result"
    }
   ],
   "source": [
    "                              #min, max\n",
    "random_array = np.random.randint(1, 10, size=(3, 2))\n",
    "random_array"
   ]
  },
  {
   "cell_type": "code",
   "execution_count": 16,
   "id": "e9594c8f",
   "metadata": {},
   "outputs": [
    {
     "data": {
      "text/plain": [
       "array([[0.58450202, 0.07849127, 0.55374322, 0.10031802, 0.71021159],\n",
       "       [0.35960382, 0.09414271, 0.94331194, 0.29568566, 0.92858865]])"
      ]
     },
     "execution_count": 16,
     "metadata": {},
     "output_type": "execute_result"
    }
   ],
   "source": [
    "# random returns float from 0 to 1\n",
    "random_array2 = np.random.random(size=(2, 5))\n",
    "random_array2"
   ]
  },
  {
   "cell_type": "code",
   "execution_count": 17,
   "id": "593f658d",
   "metadata": {},
   "outputs": [
    {
     "data": {
      "text/plain": [
       "array([[0.8151539 , 0.16695931, 0.68593399, 0.05806982, 0.22605305],\n",
       "       [0.77100406, 0.53794054, 0.18854529, 0.66478286, 0.7900321 ]])"
      ]
     },
     "execution_count": 17,
     "metadata": {},
     "output_type": "execute_result"
    }
   ],
   "source": [
    "# same returns 0 to 1        d0, d1 - same as axis 0 and axis 1\n",
    "random_array3 = np.random.rand(2, 5)\n",
    "random_array3"
   ]
  },
  {
   "cell_type": "markdown",
   "id": "abd51a8d",
   "metadata": {},
   "source": [
    "### pseudo random numbers - returns same random number everytime\n"
   ]
  },
  {
   "cell_type": "code",
   "execution_count": 18,
   "id": "84316dd6",
   "metadata": {},
   "outputs": [
    {
     "data": {
      "text/plain": [
       "array([[6, 1, 2, 3],\n",
       "       [3, 0, 6, 1],\n",
       "       [4, 5, 9, 2]])"
      ]
     },
     "execution_count": 18,
     "metadata": {},
     "output_type": "execute_result"
    }
   ],
   "source": [
    "np.random.seed(seed=12) # seed can be any int\n",
    "random_array4 = np.random.randint(10, size=(3, 4))\n",
    "random_array4"
   ]
  },
  {
   "cell_type": "markdown",
   "id": "a1b60562",
   "metadata": {},
   "source": [
    "# 3. Viewing array and matrices"
   ]
  },
  {
   "cell_type": "code",
   "execution_count": 19,
   "id": "98e8beac",
   "metadata": {},
   "outputs": [
    {
     "data": {
      "text/plain": [
       "array([0, 1, 2, 3, 4, 5, 6, 9])"
      ]
     },
     "execution_count": 19,
     "metadata": {},
     "output_type": "execute_result"
    }
   ],
   "source": [
    "# to find unique elemnets of an array\n",
    "np.unique(random_array4)"
   ]
  },
  {
   "cell_type": "code",
   "execution_count": 20,
   "id": "b8287a1a",
   "metadata": {},
   "outputs": [
    {
     "data": {
      "text/plain": [
       "array([1, 2, 3])"
      ]
     },
     "execution_count": 20,
     "metadata": {},
     "output_type": "execute_result"
    }
   ],
   "source": [
    "a1"
   ]
  },
  {
   "cell_type": "markdown",
   "id": "d4f7e822",
   "metadata": {},
   "source": [
    "### Grabbing Index"
   ]
  },
  {
   "cell_type": "code",
   "execution_count": 21,
   "id": "50362d71",
   "metadata": {},
   "outputs": [
    {
     "data": {
      "text/plain": [
       "(1, 3)"
      ]
     },
     "execution_count": 21,
     "metadata": {},
     "output_type": "execute_result"
    }
   ],
   "source": [
    "a1[0], a1[2]"
   ]
  },
  {
   "cell_type": "code",
   "execution_count": 22,
   "id": "0f842520",
   "metadata": {},
   "outputs": [
    {
     "data": {
      "text/plain": [
       "array([[1. , 2.2, 3. ],\n",
       "       [4.1, 5. , 6.4]])"
      ]
     },
     "execution_count": 22,
     "metadata": {},
     "output_type": "execute_result"
    }
   ],
   "source": [
    "a2"
   ]
  },
  {
   "cell_type": "code",
   "execution_count": 23,
   "id": "a0071536",
   "metadata": {},
   "outputs": [
    {
     "data": {
      "text/plain": [
       "(array([1. , 2.2, 3. ]), 2.2)"
      ]
     },
     "execution_count": 23,
     "metadata": {},
     "output_type": "execute_result"
    }
   ],
   "source": [
    "a2[0], a2[0][1]"
   ]
  },
  {
   "cell_type": "code",
   "execution_count": 24,
   "id": "02b2ac0d",
   "metadata": {},
   "outputs": [
    {
     "data": {
      "text/plain": [
       "array([[[ 1,  2,  3],\n",
       "        [ 4,  5,  6]],\n",
       "\n",
       "       [[ 7,  8,  9],\n",
       "        [10, 11, 12]],\n",
       "\n",
       "       [[13, 14, 15],\n",
       "        [16, 17, 18]]])"
      ]
     },
     "execution_count": 24,
     "metadata": {},
     "output_type": "execute_result"
    }
   ],
   "source": [
    "a3"
   ]
  },
  {
   "cell_type": "code",
   "execution_count": 25,
   "id": "1f2318ae",
   "metadata": {},
   "outputs": [
    {
     "data": {
      "text/plain": [
       "11"
      ]
     },
     "execution_count": 25,
     "metadata": {},
     "output_type": "execute_result"
    }
   ],
   "source": [
    "# grab 11    \n",
    "a3[1][1][1]"
   ]
  },
  {
   "cell_type": "code",
   "execution_count": 26,
   "id": "ce598984",
   "metadata": {},
   "outputs": [
    {
     "data": {
      "text/plain": [
       "(3, 2, 3)"
      ]
     },
     "execution_count": 26,
     "metadata": {},
     "output_type": "execute_result"
    }
   ],
   "source": [
    "a3.shape # if you confused refer shape the index can't go beyond shape"
   ]
  },
  {
   "cell_type": "code",
   "execution_count": 27,
   "id": "1b6efe01",
   "metadata": {},
   "outputs": [
    {
     "data": {
      "text/plain": [
       "array([[[ 1,  2],\n",
       "        [ 4,  5]],\n",
       "\n",
       "       [[ 7,  8],\n",
       "        [10, 11]],\n",
       "\n",
       "       [[13, 14],\n",
       "        [16, 17]]])"
      ]
     },
     "execution_count": 27,
     "metadata": {},
     "output_type": "execute_result"
    }
   ],
   "source": [
    "# grab first 2 elements\n",
    "a3[:, :, :2] # 3times, 2 row, 2 column0 "
   ]
  },
  {
   "cell_type": "markdown",
   "id": "a4d2f1a4",
   "metadata": {},
   "source": [
    "# Manipulating & comparing arrays"
   ]
  },
  {
   "cell_type": "markdown",
   "id": "3a6bf23f",
   "metadata": {},
   "source": [
    "### Arithmetic\n",
    "for every math operator numpy has method"
   ]
  },
  {
   "cell_type": "code",
   "execution_count": 28,
   "id": "65f736a5",
   "metadata": {},
   "outputs": [
    {
     "data": {
      "text/plain": [
       "array([1, 2, 3])"
      ]
     },
     "execution_count": 28,
     "metadata": {},
     "output_type": "execute_result"
    }
   ],
   "source": [
    "a1"
   ]
  },
  {
   "cell_type": "code",
   "execution_count": 29,
   "id": "9bcf0b46",
   "metadata": {},
   "outputs": [
    {
     "data": {
      "text/plain": [
       "array([1., 1., 1.])"
      ]
     },
     "execution_count": 29,
     "metadata": {},
     "output_type": "execute_result"
    }
   ],
   "source": [
    "ones = np.ones(shape=(3,)) # remember ones & zeros takes shape\n",
    "ones"
   ]
  },
  {
   "cell_type": "code",
   "execution_count": 30,
   "id": "ea2fa998",
   "metadata": {},
   "outputs": [
    {
     "data": {
      "text/plain": [
       "array([2., 3., 4.])"
      ]
     },
     "execution_count": 30,
     "metadata": {},
     "output_type": "execute_result"
    }
   ],
   "source": [
    "a1 + ones"
   ]
  },
  {
   "cell_type": "code",
   "execution_count": 31,
   "id": "88392023",
   "metadata": {},
   "outputs": [
    {
     "data": {
      "text/plain": [
       "array([0., 1., 2.])"
      ]
     },
     "execution_count": 31,
     "metadata": {},
     "output_type": "execute_result"
    }
   ],
   "source": [
    "a1 - ones"
   ]
  },
  {
   "cell_type": "code",
   "execution_count": 32,
   "id": "26a69a08",
   "metadata": {},
   "outputs": [
    {
     "data": {
      "text/plain": [
       "array([1., 2., 3.])"
      ]
     },
     "execution_count": 32,
     "metadata": {},
     "output_type": "execute_result"
    }
   ],
   "source": [
    "a1 * ones"
   ]
  },
  {
   "cell_type": "code",
   "execution_count": 33,
   "id": "0e6b4f6c",
   "metadata": {},
   "outputs": [
    {
     "data": {
      "text/plain": [
       "array([1, 2, 3])"
      ]
     },
     "execution_count": 33,
     "metadata": {},
     "output_type": "execute_result"
    }
   ],
   "source": [
    "a1"
   ]
  },
  {
   "cell_type": "code",
   "execution_count": 34,
   "id": "2fe26102",
   "metadata": {},
   "outputs": [
    {
     "data": {
      "text/plain": [
       "array([[1. , 2.2, 3. ],\n",
       "       [4.1, 5. , 6.4]])"
      ]
     },
     "execution_count": 34,
     "metadata": {},
     "output_type": "execute_result"
    }
   ],
   "source": [
    "a2"
   ]
  },
  {
   "cell_type": "code",
   "execution_count": 35,
   "id": "673c346e",
   "metadata": {},
   "outputs": [
    {
     "data": {
      "text/plain": [
       "array([[ 1. ,  4.4,  9. ],\n",
       "       [ 4.1, 10. , 19.2]])"
      ]
     },
     "execution_count": 35,
     "metadata": {},
     "output_type": "execute_result"
    }
   ],
   "source": [
    "a1 * a2 \n",
    "# remember columns have to match"
   ]
  },
  {
   "cell_type": "code",
   "execution_count": 36,
   "id": "efee7ced",
   "metadata": {},
   "outputs": [
    {
     "data": {
      "text/plain": [
       "array([[1. , 2.2, 3. ],\n",
       "       [4.1, 5. , 6.4]])"
      ]
     },
     "execution_count": 36,
     "metadata": {},
     "output_type": "execute_result"
    }
   ],
   "source": [
    "a2"
   ]
  },
  {
   "cell_type": "code",
   "execution_count": 37,
   "id": "4930e82d",
   "metadata": {},
   "outputs": [
    {
     "data": {
      "text/plain": [
       "array([[[ 1,  2,  3],\n",
       "        [ 4,  5,  6]],\n",
       "\n",
       "       [[ 7,  8,  9],\n",
       "        [10, 11, 12]],\n",
       "\n",
       "       [[13, 14, 15],\n",
       "        [16, 17, 18]]])"
      ]
     },
     "execution_count": 37,
     "metadata": {},
     "output_type": "execute_result"
    }
   ],
   "source": [
    "a3"
   ]
  },
  {
   "cell_type": "code",
   "execution_count": 38,
   "id": "beaee4e0",
   "metadata": {},
   "outputs": [
    {
     "data": {
      "text/plain": [
       "array([[[  1. ,   4.4,   9. ],\n",
       "        [ 16.4,  25. ,  38.4]],\n",
       "\n",
       "       [[  7. ,  17.6,  27. ],\n",
       "        [ 41. ,  55. ,  76.8]],\n",
       "\n",
       "       [[ 13. ,  30.8,  45. ],\n",
       "        [ 65.6,  85. , 115.2]]])"
      ]
     },
     "execution_count": 38,
     "metadata": {},
     "output_type": "execute_result"
    }
   ],
   "source": [
    "a2 * a3"
   ]
  },
  {
   "cell_type": "markdown",
   "id": "0230db1a",
   "metadata": {},
   "source": [
    "### division"
   ]
  },
  {
   "cell_type": "code",
   "execution_count": 39,
   "id": "71b32429",
   "metadata": {},
   "outputs": [
    {
     "data": {
      "text/plain": [
       "array([1., 2., 3.])"
      ]
     },
     "execution_count": 39,
     "metadata": {},
     "output_type": "execute_result"
    }
   ],
   "source": [
    "a1 / ones"
   ]
  },
  {
   "cell_type": "code",
   "execution_count": 40,
   "id": "62ef94d3",
   "metadata": {},
   "outputs": [
    {
     "data": {
      "text/plain": [
       "array([[1.        , 0.90909091, 1.        ],\n",
       "       [0.24390244, 0.4       , 0.46875   ]])"
      ]
     },
     "execution_count": 40,
     "metadata": {},
     "output_type": "execute_result"
    }
   ],
   "source": [
    "a1 / a2"
   ]
  },
  {
   "cell_type": "code",
   "execution_count": 41,
   "id": "1921e01c",
   "metadata": {},
   "outputs": [
    {
     "data": {
      "text/plain": [
       "array([[1.        , 1.1       , 1.        ],\n",
       "       [4.1       , 2.5       , 2.13333333]])"
      ]
     },
     "execution_count": 41,
     "metadata": {},
     "output_type": "execute_result"
    }
   ],
   "source": [
    "a2 / a1"
   ]
  },
  {
   "cell_type": "code",
   "execution_count": 42,
   "id": "4b7150fd",
   "metadata": {},
   "outputs": [
    {
     "data": {
      "text/plain": [
       "array([[1., 1., 1.],\n",
       "       [4., 2., 2.]])"
      ]
     },
     "execution_count": 42,
     "metadata": {},
     "output_type": "execute_result"
    }
   ],
   "source": [
    "# floor division - rounds decimal values\n",
    "a2 // a1"
   ]
  },
  {
   "cell_type": "code",
   "execution_count": 43,
   "id": "4be922fb",
   "metadata": {},
   "outputs": [
    {
     "data": {
      "text/plain": [
       "array([[ 1.  ,  4.84,  9.  ],\n",
       "       [16.81, 25.  , 40.96]])"
      ]
     },
     "execution_count": 43,
     "metadata": {},
     "output_type": "execute_result"
    }
   ],
   "source": [
    "# square\n",
    "np.square(a2)"
   ]
  },
  {
   "cell_type": "code",
   "execution_count": 44,
   "id": "73feb584",
   "metadata": {},
   "outputs": [
    {
     "data": {
      "text/plain": [
       "array([[1. , 0.2, 1. ],\n",
       "       [0.1, 1. , 0.4]])"
      ]
     },
     "execution_count": 44,
     "metadata": {},
     "output_type": "execute_result"
    }
   ],
   "source": [
    "# modulo %\n",
    "np.mod(a2, 2)"
   ]
  },
  {
   "cell_type": "code",
   "execution_count": 45,
   "id": "d8a24bbb",
   "metadata": {},
   "outputs": [
    {
     "data": {
      "text/plain": [
       "array([ 2.71828183,  7.3890561 , 20.08553692])"
      ]
     },
     "execution_count": 45,
     "metadata": {},
     "output_type": "execute_result"
    }
   ],
   "source": [
    "# exp\n",
    "np.exp(a1)"
   ]
  },
  {
   "cell_type": "code",
   "execution_count": 46,
   "id": "bef8f24c",
   "metadata": {},
   "outputs": [
    {
     "data": {
      "text/plain": [
       "array([0.        , 0.69314718, 1.09861229])"
      ]
     },
     "execution_count": 46,
     "metadata": {},
     "output_type": "execute_result"
    }
   ],
   "source": [
    "# log\n",
    "np.log(a1)"
   ]
  },
  {
   "cell_type": "markdown",
   "id": "f57394a1",
   "metadata": {},
   "source": [
    "### Aggregation\n",
    "`Aggregation` = **performing same operation on number of things**"
   ]
  },
  {
   "cell_type": "code",
   "execution_count": 47,
   "id": "414b6a86",
   "metadata": {},
   "outputs": [
    {
     "data": {
      "text/plain": [
       "6"
      ]
     },
     "execution_count": 47,
     "metadata": {},
     "output_type": "execute_result"
    }
   ],
   "source": [
    "python_list = [1, 2, 3]\n",
    "sum(python_list)"
   ]
  },
  {
   "cell_type": "code",
   "execution_count": 48,
   "id": "5ac96283",
   "metadata": {},
   "outputs": [
    {
     "data": {
      "text/plain": [
       "6"
      ]
     },
     "execution_count": 48,
     "metadata": {},
     "output_type": "execute_result"
    }
   ],
   "source": [
    "sum(a1)"
   ]
  },
  {
   "cell_type": "code",
   "execution_count": 49,
   "id": "ec06aaab",
   "metadata": {},
   "outputs": [
    {
     "data": {
      "text/plain": [
       "6"
      ]
     },
     "execution_count": 49,
     "metadata": {},
     "output_type": "execute_result"
    }
   ],
   "source": [
    "np.sum(a1)"
   ]
  },
  {
   "cell_type": "markdown",
   "id": "b1d05ea3",
   "metadata": {},
   "source": [
    "*Use python methods `sum()` for python datatypes and numpy methods `np.sum()` for ndarrays*"
   ]
  },
  {
   "cell_type": "code",
   "execution_count": 50,
   "id": "b1f48ce2",
   "metadata": {},
   "outputs": [
    {
     "data": {
      "text/plain": [
       "array([0.72595416, 0.37283446, 0.67599758, 0.98364716, 0.48153021,\n",
       "       0.91253883, 0.18987634, 0.14797388, 0.90726736, 0.68432507])"
      ]
     },
     "execution_count": 50,
     "metadata": {},
     "output_type": "execute_result"
    }
   ],
   "source": [
    "# creatting massive array to compare\n",
    "massive_array = np.random.random(size=(1000))\n",
    "massive_array[:10]"
   ]
  },
  {
   "cell_type": "code",
   "execution_count": 51,
   "id": "2be64c0d",
   "metadata": {},
   "outputs": [
    {
     "name": "stdout",
     "output_type": "stream",
     "text": [
      "74.4 µs ± 190 ns per loop (mean ± std. dev. of 7 runs, 10000 loops each)\n",
      "4.18 µs ± 104 ns per loop (mean ± std. dev. of 7 runs, 100000 loops each)\n"
     ]
    }
   ],
   "source": [
    "# timeit caluculates how long code took to run\n",
    "%timeit sum(massive_array)  # python\n",
    "%timeit np.sum(massive_array) # np"
   ]
  },
  {
   "cell_type": "markdown",
   "id": "cf61fb89",
   "metadata": {},
   "source": [
    "**other methods**"
   ]
  },
  {
   "cell_type": "code",
   "execution_count": 52,
   "id": "ad6933e6",
   "metadata": {},
   "outputs": [
    {
     "data": {
      "text/plain": [
       "array([[1. , 2.2, 3. ],\n",
       "       [4.1, 5. , 6.4]])"
      ]
     },
     "execution_count": 52,
     "metadata": {},
     "output_type": "execute_result"
    }
   ],
   "source": [
    "a2"
   ]
  },
  {
   "cell_type": "code",
   "execution_count": 53,
   "id": "f0dcf20f",
   "metadata": {},
   "outputs": [
    {
     "data": {
      "text/plain": [
       "3.616666666666667"
      ]
     },
     "execution_count": 53,
     "metadata": {},
     "output_type": "execute_result"
    }
   ],
   "source": [
    "np.mean(a2) # sum of all num/ total num"
   ]
  },
  {
   "cell_type": "code",
   "execution_count": 54,
   "id": "66dd94c7",
   "metadata": {},
   "outputs": [
    {
     "data": {
      "text/plain": [
       "6.4"
      ]
     },
     "execution_count": 54,
     "metadata": {},
     "output_type": "execute_result"
    }
   ],
   "source": [
    "np.max(a2)"
   ]
  },
  {
   "cell_type": "code",
   "execution_count": 55,
   "id": "02d13471",
   "metadata": {},
   "outputs": [
    {
     "data": {
      "text/plain": [
       "1.0"
      ]
     },
     "execution_count": 55,
     "metadata": {},
     "output_type": "execute_result"
    }
   ],
   "source": [
    "np.min(a2)"
   ]
  },
  {
   "cell_type": "code",
   "execution_count": 56,
   "id": "cd626358",
   "metadata": {},
   "outputs": [
    {
     "data": {
      "text/plain": [
       "1.7855126870329305"
      ]
     },
     "execution_count": 56,
     "metadata": {},
     "output_type": "execute_result"
    }
   ],
   "source": [
    "# standard deviation = measure of how spread out a group of numbers is from the mean\n",
    "np.std(a2)"
   ]
  },
  {
   "cell_type": "code",
   "execution_count": 57,
   "id": "bee32b21",
   "metadata": {},
   "outputs": [
    {
     "data": {
      "text/plain": [
       "3.1880555555555556"
      ]
     },
     "execution_count": 57,
     "metadata": {},
     "output_type": "execute_result"
    }
   ],
   "source": [
    "# variance = measure of avg degree to which each num is different to the mean\n",
    "# hiher variance = wider range of numbers\n",
    "# lower variance = lower range of number\n",
    "np.var(a2)"
   ]
  },
  {
   "cell_type": "code",
   "execution_count": 58,
   "id": "ec821bdf",
   "metadata": {},
   "outputs": [
    {
     "data": {
      "text/plain": [
       "1.7855126870329305"
      ]
     },
     "execution_count": 58,
     "metadata": {},
     "output_type": "execute_result"
    }
   ],
   "source": [
    "# std is squareroot of var\n",
    "np.sqrt(np.var(a2))"
   ]
  },
  {
   "cell_type": "markdown",
   "id": "52d980cd",
   "metadata": {},
   "source": [
    "**Demo of std and var**\n",
    "\n",
    "*both are measures of spread of data*"
   ]
  },
  {
   "cell_type": "code",
   "execution_count": 59,
   "id": "575fc74b",
   "metadata": {},
   "outputs": [],
   "source": [
    "high_var_array = np.array([1, 100, 300, 4000, 5000])\n",
    "low_var_array = np.array([2, 4, 6, 8, 10])"
   ]
  },
  {
   "cell_type": "code",
   "execution_count": 60,
   "id": "1f309c77",
   "metadata": {},
   "outputs": [
    {
     "data": {
      "text/plain": [
       "(4684848.16, 8.0)"
      ]
     },
     "execution_count": 60,
     "metadata": {},
     "output_type": "execute_result"
    }
   ],
   "source": [
    "# var\n",
    "np.var(high_var_array), np.var(low_var_array)"
   ]
  },
  {
   "cell_type": "code",
   "execution_count": 61,
   "id": "dc725b77",
   "metadata": {},
   "outputs": [
    {
     "data": {
      "text/plain": [
       "(2164.451006606525, 2.8284271247461903)"
      ]
     },
     "execution_count": 61,
     "metadata": {},
     "output_type": "execute_result"
    }
   ],
   "source": [
    "# std\n",
    "np.std(high_var_array), np.std(low_var_array)"
   ]
  },
  {
   "cell_type": "code",
   "execution_count": 62,
   "id": "e9012e28",
   "metadata": {},
   "outputs": [
    {
     "data": {
      "text/plain": [
       "(1880.2, 6.0)"
      ]
     },
     "execution_count": 62,
     "metadata": {},
     "output_type": "execute_result"
    }
   ],
   "source": [
    "# mean\n",
    "np.mean(high_var_array), np.mean(low_var_array)"
   ]
  },
  {
   "cell_type": "markdown",
   "id": "968bfd89",
   "metadata": {},
   "source": [
    "**we can view data in graph for more clarifiaction**"
   ]
  },
  {
   "cell_type": "code",
   "execution_count": 63,
   "id": "50b73f1c",
   "metadata": {},
   "outputs": [
    {
     "data": {
      "text/plain": [
       "(array([3., 0., 0., 0., 0., 0., 0., 1., 0., 1.]),\n",
       " array([1.0000e+00, 5.0090e+02, 1.0008e+03, 1.5007e+03, 2.0006e+03,\n",
       "        2.5005e+03, 3.0004e+03, 3.5003e+03, 4.0002e+03, 4.5001e+03,\n",
       "        5.0000e+03]),\n",
       " <BarContainer object of 10 artists>)"
      ]
     },
     "execution_count": 63,
     "metadata": {},
     "output_type": "execute_result"
    },
    {
     "data": {
      "image/png": "[encoded data removed]",
      "text/plain": [
       "<Figure size 432x288 with 1 Axes>"
      ]
     },
     "metadata": {
      "needs_background": "light"
     },
     "output_type": "display_data"
    }
   ],
   "source": [
    "import matplotlib.pyplot as plt\n",
    "plt.hist(high_var_array)"
   ]
  },
  {
   "cell_type": "code",
   "execution_count": 64,
   "id": "4653bdaa",
   "metadata": {},
   "outputs": [
    {
     "data": {
      "text/plain": [
       "(array([1., 0., 1., 0., 0., 1., 0., 1., 0., 1.]),\n",
       " array([ 2. ,  2.8,  3.6,  4.4,  5.2,  6. ,  6.8,  7.6,  8.4,  9.2, 10. ]),\n",
       " <BarContainer object of 10 artists>)"
      ]
     },
     "execution_count": 64,
     "metadata": {},
     "output_type": "execute_result"
    },
    {
     "data": {
      "image/png": "[encoded data removed]",
      "text/plain": [
       "<Figure size 432x288 with 1 Axes>"
      ]
     },
     "metadata": {
      "needs_background": "light"
     },
     "output_type": "display_data"
    }
   ],
   "source": [
    "plt.hist(low_var_array)"
   ]
  },
  {
   "cell_type": "markdown",
   "id": "924e9992",
   "metadata": {},
   "source": [
    "# Reshaping & transposing"
   ]
  },
  {
   "cell_type": "code",
   "execution_count": 65,
   "id": "da223ba3",
   "metadata": {},
   "outputs": [
    {
     "data": {
      "text/plain": [
       "array([[1. , 2.2, 3. ],\n",
       "       [4.1, 5. , 6.4]])"
      ]
     },
     "execution_count": 65,
     "metadata": {},
     "output_type": "execute_result"
    }
   ],
   "source": [
    "a2"
   ]
  },
  {
   "cell_type": "code",
   "execution_count": 66,
   "id": "e058645f",
   "metadata": {},
   "outputs": [
    {
     "data": {
      "text/plain": [
       "(2, 3)"
      ]
     },
     "execution_count": 66,
     "metadata": {},
     "output_type": "execute_result"
    }
   ],
   "source": [
    "a2.shape"
   ]
  },
  {
   "cell_type": "code",
   "execution_count": 67,
   "id": "50e53f70",
   "metadata": {},
   "outputs": [
    {
     "data": {
      "text/plain": [
       "array([[1. , 2.2],\n",
       "       [3. , 4.1],\n",
       "       [5. , 6.4]])"
      ]
     },
     "execution_count": 67,
     "metadata": {},
     "output_type": "execute_result"
    }
   ],
   "source": [
    "# reshape - useful in machine learning patterns\n",
    "a2.reshape(3, 2)"
   ]
  },
  {
   "cell_type": "code",
   "execution_count": 68,
   "id": "a1186259",
   "metadata": {},
   "outputs": [
    {
     "data": {
      "text/plain": [
       "array([[[1. ],\n",
       "        [2.2]],\n",
       "\n",
       "       [[3. ],\n",
       "        [4.1]],\n",
       "\n",
       "       [[5. ],\n",
       "        [6.4]]])"
      ]
     },
     "execution_count": 68,
     "metadata": {},
     "output_type": "execute_result"
    }
   ],
   "source": [
    "a2.reshape(3, 2, 1) # 3 times, 2 rows, 1 column"
   ]
  },
  {
   "cell_type": "code",
   "execution_count": 69,
   "id": "5822eab0",
   "metadata": {},
   "outputs": [
    {
     "data": {
      "text/plain": [
       "(array([[1. , 2.2, 3. ],\n",
       "        [4.1, 5. , 6.4]]),\n",
       " array([[1. , 4.1],\n",
       "        [2.2, 5. ],\n",
       "        [3. , 6.4]]))"
      ]
     },
     "execution_count": 69,
     "metadata": {},
     "output_type": "execute_result"
    }
   ],
   "source": [
    "# transpose - switches the axis\n",
    "a2, a2.T"
   ]
  },
  {
   "cell_type": "code",
   "execution_count": 70,
   "id": "35365c53",
   "metadata": {},
   "outputs": [
    {
     "data": {
      "text/plain": [
       "((2, 3), (3, 2))"
      ]
     },
     "execution_count": 70,
     "metadata": {},
     "output_type": "execute_result"
    }
   ],
   "source": [
    "a2.shape, a2.T.shape"
   ]
  },
  {
   "cell_type": "code",
   "execution_count": 71,
   "id": "c83101ac",
   "metadata": {},
   "outputs": [
    {
     "data": {
      "text/plain": [
       "array([[[ 1,  2,  3],\n",
       "        [ 4,  5,  6]],\n",
       "\n",
       "       [[ 7,  8,  9],\n",
       "        [10, 11, 12]],\n",
       "\n",
       "       [[13, 14, 15],\n",
       "        [16, 17, 18]]])"
      ]
     },
     "execution_count": 71,
     "metadata": {},
     "output_type": "execute_result"
    }
   ],
   "source": [
    "a3"
   ]
  },
  {
   "cell_type": "code",
   "execution_count": 72,
   "id": "70af8577",
   "metadata": {},
   "outputs": [
    {
     "data": {
      "text/plain": [
       "array([[[ 1,  7, 13],\n",
       "        [ 4, 10, 16]],\n",
       "\n",
       "       [[ 2,  8, 14],\n",
       "        [ 5, 11, 17]],\n",
       "\n",
       "       [[ 3,  9, 15],\n",
       "        [ 6, 12, 18]]])"
      ]
     },
     "execution_count": 72,
     "metadata": {},
     "output_type": "execute_result"
    }
   ],
   "source": [
    "a3.T"
   ]
  },
  {
   "cell_type": "code",
   "execution_count": 73,
   "id": "5c7a9676",
   "metadata": {},
   "outputs": [
    {
     "data": {
      "text/plain": [
       "((3, 2, 3), (3, 2, 3))"
      ]
     },
     "execution_count": 73,
     "metadata": {},
     "output_type": "execute_result"
    }
   ],
   "source": [
    "a3.shape, a3.T.shape"
   ]
  },
  {
   "cell_type": "markdown",
   "id": "cdc3a52f",
   "metadata": {},
   "source": [
    "# Dot product\n",
    "**same as matrix lesson in class 12**"
   ]
  },
  {
   "cell_type": "code",
   "execution_count": 74,
   "id": "3141ef9a",
   "metadata": {},
   "outputs": [
    {
     "data": {
      "text/plain": [
       "array([[5, 0, 3],\n",
       "       [3, 7, 9],\n",
       "       [3, 5, 2],\n",
       "       [4, 7, 6],\n",
       "       [8, 8, 1]])"
      ]
     },
     "execution_count": 74,
     "metadata": {},
     "output_type": "execute_result"
    }
   ],
   "source": [
    "np.random.seed(0)\n",
    "\n",
    "mat1 = np.random.randint(10, size=(5, 3))\n",
    "mat2 = np.random.randint(10, size=(5, 3))\n",
    "\n",
    "mat1"
   ]
  },
  {
   "cell_type": "code",
   "execution_count": 75,
   "id": "156a5523",
   "metadata": {},
   "outputs": [
    {
     "data": {
      "text/plain": [
       "array([[6, 7, 7],\n",
       "       [8, 1, 5],\n",
       "       [9, 8, 9],\n",
       "       [4, 3, 0],\n",
       "       [3, 5, 0]])"
      ]
     },
     "execution_count": 75,
     "metadata": {},
     "output_type": "execute_result"
    }
   ],
   "source": [
    "mat2"
   ]
  },
  {
   "cell_type": "code",
   "execution_count": 76,
   "id": "55b9b279",
   "metadata": {},
   "outputs": [
    {
     "data": {
      "text/plain": [
       "array([[30,  0, 21],\n",
       "       [24,  7, 45],\n",
       "       [27, 40, 18],\n",
       "       [16, 21,  0],\n",
       "       [24, 40,  0]])"
      ]
     },
     "execution_count": 76,
     "metadata": {},
     "output_type": "execute_result"
    }
   ],
   "source": [
    "# Element-wise multiplication (hadamard product)\n",
    "np.multiply(mat1, mat2)"
   ]
  },
  {
   "cell_type": "code",
   "execution_count": 77,
   "id": "fa0e1299",
   "metadata": {},
   "outputs": [
    {
     "data": {
      "text/plain": [
       "array([[121, 114,  77],\n",
       "       [153, 108,  80],\n",
       "       [135,  69,  84]])"
      ]
     },
     "execution_count": 77,
     "metadata": {},
     "output_type": "execute_result"
    }
   ],
   "source": [
    "# Dot product - To happen 3x(5 = 5)x3 the result matrix will be outside numbers 3x3\n",
    "np.dot(mat1.T, mat2)\n",
    "# when two matrices are in same shape that time we use Transpose"
   ]
  },
  {
   "cell_type": "markdown",
   "id": "ed897c91",
   "metadata": {},
   "source": [
    "# Dot Product example (ButterSales)\n",
    "*reshaping data to fullfil the needs*"
   ]
  },
  {
   "cell_type": "code",
   "execution_count": 78,
   "id": "4806d2af",
   "metadata": {},
   "outputs": [
    {
     "data": {
      "text/plain": [
       "array([[16,  5,  4],\n",
       "       [ 8, 15,  9],\n",
       "       [15, 11,  9],\n",
       "       [ 8,  7,  5],\n",
       "       [17,  8, 13]])"
      ]
     },
     "execution_count": 78,
     "metadata": {},
     "output_type": "execute_result"
    }
   ],
   "source": [
    "np.random.seed(7)\n",
    "# creating jars sold\n",
    "jars_sold = np.random.randint(1, 20, size=(5, 3))\n",
    "jars_sold"
   ]
  },
  {
   "cell_type": "code",
   "execution_count": 79,
   "id": "2f7685ba",
   "metadata": {},
   "outputs": [
    {
     "data": {
      "text/html": [
       "<div>\n",
       "<style scoped>\n",
       "    .dataframe tbody tr th:only-of-type {\n",
       "        vertical-align: middle;\n",
       "    }\n",
       "\n",
       "    .dataframe tbody tr th {\n",
       "        vertical-align: top;\n",
       "    }\n",
       "\n",
       "    .dataframe thead th {\n",
       "        text-align: right;\n",
       "    }\n",
       "</style>\n",
       "<table border=\"1\" class=\"dataframe\">\n",
       "  <thead>\n",
       "    <tr style=\"text-align: right;\">\n",
       "      <th></th>\n",
       "      <th>Almond Butter</th>\n",
       "      <th>Peanut Butter</th>\n",
       "      <th>Chasew Butter</th>\n",
       "    </tr>\n",
       "  </thead>\n",
       "  <tbody>\n",
       "    <tr>\n",
       "      <th>Mon</th>\n",
       "      <td>16</td>\n",
       "      <td>5</td>\n",
       "      <td>4</td>\n",
       "    </tr>\n",
       "    <tr>\n",
       "      <th>Tue</th>\n",
       "      <td>8</td>\n",
       "      <td>15</td>\n",
       "      <td>9</td>\n",
       "    </tr>\n",
       "    <tr>\n",
       "      <th>Wed</th>\n",
       "      <td>15</td>\n",
       "      <td>11</td>\n",
       "      <td>9</td>\n",
       "    </tr>\n",
       "    <tr>\n",
       "      <th>Thur</th>\n",
       "      <td>8</td>\n",
       "      <td>7</td>\n",
       "      <td>5</td>\n",
       "    </tr>\n",
       "    <tr>\n",
       "      <th>Fri</th>\n",
       "      <td>17</td>\n",
       "      <td>8</td>\n",
       "      <td>13</td>\n",
       "    </tr>\n",
       "  </tbody>\n",
       "</table>\n",
       "</div>"
      ],
      "text/plain": [
       "      Almond Butter  Peanut Butter  Chasew Butter\n",
       "Mon              16              5              4\n",
       "Tue               8             15              9\n",
       "Wed              15             11              9\n",
       "Thur              8              7              5\n",
       "Fri              17              8             13"
      ]
     },
     "execution_count": 79,
     "metadata": {},
     "output_type": "execute_result"
    }
   ],
   "source": [
    "# creating DataFrame for storing jars sold\n",
    "import pandas as pd\n",
    "weekly_sales = pd.DataFrame(jars_sold, index=['Mon', 'Tue', 'Wed', 'Thur', 'Fri'], columns=\\\n",
    "                           ['Almond Butter', 'Peanut Butter', 'Chasew Butter'])\n",
    "weekly_sales"
   ]
  },
  {
   "cell_type": "code",
   "execution_count": 80,
   "id": "1952d282",
   "metadata": {},
   "outputs": [
    {
     "data": {
      "text/plain": [
       "(3,)"
      ]
     },
     "execution_count": 80,
     "metadata": {},
     "output_type": "execute_result"
    }
   ],
   "source": [
    "# setting price for butters\n",
    "prices = np.array([10, 8, 12])\n",
    "prices.shape"
   ]
  },
  {
   "cell_type": "code",
   "execution_count": 81,
   "id": "736f3c48",
   "metadata": {},
   "outputs": [],
   "source": [
    "# Create Butterprice DataFrame\n",
    "butter_price = pd.DataFrame(prices.reshape(1, 3), index=['Price'], columns=\\\n",
    "                            ['Almond Butter', 'Peanut Butter', 'Chasew Butter'])"
   ]
  },
  {
   "cell_type": "code",
   "execution_count": 82,
   "id": "c3e4ab37",
   "metadata": {},
   "outputs": [],
   "source": [
    "# used prices.reshape(1, 3) because (3, 1) dosen't match 3 columns "
   ]
  },
  {
   "cell_type": "code",
   "execution_count": 83,
   "id": "f8764426",
   "metadata": {},
   "outputs": [
    {
     "data": {
      "text/html": [
       "<div>\n",
       "<style scoped>\n",
       "    .dataframe tbody tr th:only-of-type {\n",
       "        vertical-align: middle;\n",
       "    }\n",
       "\n",
       "    .dataframe tbody tr th {\n",
       "        vertical-align: top;\n",
       "    }\n",
       "\n",
       "    .dataframe thead th {\n",
       "        text-align: right;\n",
       "    }\n",
       "</style>\n",
       "<table border=\"1\" class=\"dataframe\">\n",
       "  <thead>\n",
       "    <tr style=\"text-align: right;\">\n",
       "      <th></th>\n",
       "      <th>Almond Butter</th>\n",
       "      <th>Peanut Butter</th>\n",
       "      <th>Chasew Butter</th>\n",
       "    </tr>\n",
       "  </thead>\n",
       "  <tbody>\n",
       "    <tr>\n",
       "      <th>Price</th>\n",
       "      <td>10</td>\n",
       "      <td>8</td>\n",
       "      <td>12</td>\n",
       "    </tr>\n",
       "  </tbody>\n",
       "</table>\n",
       "</div>"
      ],
      "text/plain": [
       "       Almond Butter  Peanut Butter  Chasew Butter\n",
       "Price             10              8             12"
      ]
     },
     "execution_count": 83,
     "metadata": {},
     "output_type": "execute_result"
    }
   ],
   "source": [
    "butter_price"
   ]
  },
  {
   "cell_type": "code",
   "execution_count": 84,
   "id": "56613f19",
   "metadata": {},
   "outputs": [
    {
     "ename": "ValueError",
     "evalue": "shapes (3,) and (5,3) not aligned: 3 (dim 0) != 5 (dim 0)",
     "output_type": "error",
     "traceback": [
      "\u001b[1;31m---------------------------------------------------------------------------\u001b[0m",
      "\u001b[1;31mValueError\u001b[0m                                Traceback (most recent call last)",
      "\u001b[1;32m~\\AppData\\Local\\Temp/ipykernel_3728/1604018338.py\u001b[0m in \u001b[0;36m<module>\u001b[1;34m\u001b[0m\n\u001b[0;32m      1\u001b[0m \u001b[1;31m# finding dot product of prices and jars sold\u001b[0m\u001b[1;33m\u001b[0m\u001b[1;33m\u001b[0m\u001b[1;33m\u001b[0m\u001b[0m\n\u001b[1;32m----> 2\u001b[1;33m \u001b[0mtotal_sales\u001b[0m \u001b[1;33m=\u001b[0m \u001b[0mprices\u001b[0m\u001b[1;33m.\u001b[0m\u001b[0mdot\u001b[0m\u001b[1;33m(\u001b[0m\u001b[0mjars_sold\u001b[0m\u001b[1;33m)\u001b[0m\u001b[1;33m\u001b[0m\u001b[1;33m\u001b[0m\u001b[0m\n\u001b[0m",
      "\u001b[1;31mValueError\u001b[0m: shapes (3,) and (5,3) not aligned: 3 (dim 0) != 5 (dim 0)"
     ]
    }
   ],
   "source": [
    "# finding dot product of prices and jars sold\n",
    "total_sales = prices.dot(jars_sold)"
   ]
  },
  {
   "cell_type": "code",
   "execution_count": 85,
   "id": "4db7bf31",
   "metadata": {},
   "outputs": [],
   "source": [
    "# shapes dosen't match we use Transpose\n",
    "total_sales = prices.dot(jars_sold.T)"
   ]
  },
  {
   "cell_type": "code",
   "execution_count": 86,
   "id": "af601c0a",
   "metadata": {},
   "outputs": [
    {
     "data": {
      "text/plain": [
       "array([248, 308, 346, 196, 390])"
      ]
     },
     "execution_count": 86,
     "metadata": {},
     "output_type": "execute_result"
    }
   ],
   "source": [
    "total_sales"
   ]
  },
  {
   "cell_type": "code",
   "execution_count": 87,
   "id": "50869ef1",
   "metadata": {},
   "outputs": [
    {
     "data": {
      "text/html": [
       "<div>\n",
       "<style scoped>\n",
       "    .dataframe tbody tr th:only-of-type {\n",
       "        vertical-align: middle;\n",
       "    }\n",
       "\n",
       "    .dataframe tbody tr th {\n",
       "        vertical-align: top;\n",
       "    }\n",
       "\n",
       "    .dataframe thead th {\n",
       "        text-align: right;\n",
       "    }\n",
       "</style>\n",
       "<table border=\"1\" class=\"dataframe\">\n",
       "  <thead>\n",
       "    <tr style=\"text-align: right;\">\n",
       "      <th></th>\n",
       "      <th>Almond Butter</th>\n",
       "      <th>Peanut Butter</th>\n",
       "      <th>Chasew Butter</th>\n",
       "      <th>Daily Sales $</th>\n",
       "    </tr>\n",
       "  </thead>\n",
       "  <tbody>\n",
       "    <tr>\n",
       "      <th>Mon</th>\n",
       "      <td>16</td>\n",
       "      <td>5</td>\n",
       "      <td>4</td>\n",
       "      <td>248</td>\n",
       "    </tr>\n",
       "    <tr>\n",
       "      <th>Tue</th>\n",
       "      <td>8</td>\n",
       "      <td>15</td>\n",
       "      <td>9</td>\n",
       "      <td>308</td>\n",
       "    </tr>\n",
       "    <tr>\n",
       "      <th>Wed</th>\n",
       "      <td>15</td>\n",
       "      <td>11</td>\n",
       "      <td>9</td>\n",
       "      <td>346</td>\n",
       "    </tr>\n",
       "    <tr>\n",
       "      <th>Thur</th>\n",
       "      <td>8</td>\n",
       "      <td>7</td>\n",
       "      <td>5</td>\n",
       "      <td>196</td>\n",
       "    </tr>\n",
       "    <tr>\n",
       "      <th>Fri</th>\n",
       "      <td>17</td>\n",
       "      <td>8</td>\n",
       "      <td>13</td>\n",
       "      <td>390</td>\n",
       "    </tr>\n",
       "  </tbody>\n",
       "</table>\n",
       "</div>"
      ],
      "text/plain": [
       "      Almond Butter  Peanut Butter  Chasew Butter  Daily Sales $\n",
       "Mon              16              5              4            248\n",
       "Tue               8             15              9            308\n",
       "Wed              15             11              9            346\n",
       "Thur              8              7              5            196\n",
       "Fri              17              8             13            390"
      ]
     },
     "execution_count": 87,
     "metadata": {},
     "output_type": "execute_result"
    }
   ],
   "source": [
    "# Create daily sales\n",
    "weekly_sales['Daily Sales $'] = total_sales\n",
    "weekly_sales"
   ]
  },
  {
   "cell_type": "markdown",
   "id": "3bce8fe4",
   "metadata": {},
   "source": [
    "### Comparison Operators"
   ]
  },
  {
   "cell_type": "code",
   "execution_count": 88,
   "id": "729cb18c",
   "metadata": {},
   "outputs": [
    {
     "data": {
      "text/plain": [
       "array([1, 2, 3])"
      ]
     },
     "execution_count": 88,
     "metadata": {},
     "output_type": "execute_result"
    }
   ],
   "source": [
    "a1"
   ]
  },
  {
   "cell_type": "code",
   "execution_count": 89,
   "id": "df976c81",
   "metadata": {},
   "outputs": [
    {
     "data": {
      "text/plain": [
       "array([[1. , 2.2, 3. ],\n",
       "       [4.1, 5. , 6.4]])"
      ]
     },
     "execution_count": 89,
     "metadata": {},
     "output_type": "execute_result"
    }
   ],
   "source": [
    "a2"
   ]
  },
  {
   "cell_type": "code",
   "execution_count": 90,
   "id": "572399da",
   "metadata": {},
   "outputs": [
    {
     "data": {
      "text/plain": [
       "array([[False, False, False],\n",
       "       [False, False, False]])"
      ]
     },
     "execution_count": 90,
     "metadata": {},
     "output_type": "execute_result"
    }
   ],
   "source": [
    "a1 > a2 \n",
    "# it checks every element of a1 equal to a2"
   ]
  },
  {
   "cell_type": "code",
   "execution_count": 91,
   "id": "b1a26128",
   "metadata": {},
   "outputs": [
    {
     "data": {
      "text/plain": [
       "array([[ True, False,  True],\n",
       "       [False, False, False]])"
      ]
     },
     "execution_count": 91,
     "metadata": {},
     "output_type": "execute_result"
    }
   ],
   "source": [
    "bool_array = a1 >= a2\n",
    "bool_array"
   ]
  },
  {
   "cell_type": "code",
   "execution_count": 92,
   "id": "15b4df3d",
   "metadata": {},
   "outputs": [
    {
     "data": {
      "text/plain": [
       "(numpy.ndarray, dtype('bool'))"
      ]
     },
     "execution_count": 92,
     "metadata": {},
     "output_type": "execute_result"
    }
   ],
   "source": [
    "type(bool_array), bool_array.dtype"
   ]
  },
  {
   "cell_type": "code",
   "execution_count": 93,
   "id": "58ebd503",
   "metadata": {},
   "outputs": [
    {
     "data": {
      "text/plain": [
       "array([False, False, False])"
      ]
     },
     "execution_count": 93,
     "metadata": {},
     "output_type": "execute_result"
    }
   ],
   "source": [
    "a1 > 5"
   ]
  },
  {
   "cell_type": "code",
   "execution_count": 94,
   "id": "38559472",
   "metadata": {},
   "outputs": [
    {
     "data": {
      "text/plain": [
       "array([[ True, False,  True],\n",
       "       [False, False, False]])"
      ]
     },
     "execution_count": 94,
     "metadata": {},
     "output_type": "execute_result"
    }
   ],
   "source": [
    "a1 == a2\n",
    "# checks every element"
   ]
  },
  {
   "cell_type": "markdown",
   "id": "b7739fa1",
   "metadata": {},
   "source": [
    "## 5.Sorting Arrays"
   ]
  },
  {
   "cell_type": "markdown",
   "id": "2869d012",
   "metadata": {},
   "source": [
    "![](numpyRows&Columns.jpg)"
   ]
  },
  {
   "cell_type": "code",
   "execution_count": 115,
   "id": "5c39bf43",
   "metadata": {},
   "outputs": [
    {
     "data": {
      "text/plain": [
       "array([[6, 1, 2, 3],\n",
       "       [3, 0, 6, 1],\n",
       "       [4, 5, 9, 2]])"
      ]
     },
     "execution_count": 115,
     "metadata": {},
     "output_type": "execute_result"
    }
   ],
   "source": [
    "random_array4"
   ]
  },
  {
   "cell_type": "code",
   "execution_count": 116,
   "id": "70ba55cf",
   "metadata": {},
   "outputs": [
    {
     "data": {
      "text/plain": [
       "array([[1, 2, 3, 6],\n",
       "       [0, 1, 3, 6],\n",
       "       [2, 4, 5, 9]])"
      ]
     },
     "execution_count": 116,
     "metadata": {},
     "output_type": "execute_result"
    }
   ],
   "source": [
    "np.sort(random_array4)\n",
    "# returns a sorted copy of array"
   ]
  },
  {
   "cell_type": "code",
   "execution_count": 117,
   "id": "31798c1f",
   "metadata": {},
   "outputs": [],
   "source": [
    "# sorts on each axis as default"
   ]
  },
  {
   "cell_type": "code",
   "execution_count": 118,
   "id": "c4b52557",
   "metadata": {},
   "outputs": [
    {
     "data": {
      "text/plain": [
       "array([[3, 0, 2, 1],\n",
       "       [4, 1, 6, 2],\n",
       "       [6, 5, 9, 3]])"
      ]
     },
     "execution_count": 118,
     "metadata": {},
     "output_type": "execute_result"
    }
   ],
   "source": [
    "np.sort(random_array4, axis=0)\n",
    "# sorts columns"
   ]
  },
  {
   "cell_type": "code",
   "execution_count": 119,
   "id": "618dbc35",
   "metadata": {},
   "outputs": [
    {
     "data": {
      "text/plain": [
       "array([[1, 2, 3, 0],\n",
       "       [1, 3, 0, 2],\n",
       "       [3, 0, 1, 2]], dtype=int64)"
      ]
     },
     "execution_count": 119,
     "metadata": {},
     "output_type": "execute_result"
    }
   ],
   "source": [
    "# returns the sorted indices comparing original array\n",
    "np.argsort(random_array4)"
   ]
  },
  {
   "cell_type": "code",
   "execution_count": 120,
   "id": "98824b7c",
   "metadata": {},
   "outputs": [
    {
     "data": {
      "text/plain": [
       "array([1, 2, 3])"
      ]
     },
     "execution_count": 120,
     "metadata": {},
     "output_type": "execute_result"
    }
   ],
   "source": [
    "a1"
   ]
  },
  {
   "cell_type": "code",
   "execution_count": 121,
   "id": "eeee544c",
   "metadata": {},
   "outputs": [
    {
     "data": {
      "text/plain": [
       "array([0, 1, 2], dtype=int64)"
      ]
     },
     "execution_count": 121,
     "metadata": {},
     "output_type": "execute_result"
    }
   ],
   "source": [
    "np.argsort(a1)"
   ]
  },
  {
   "cell_type": "code",
   "execution_count": 122,
   "id": "171ae513",
   "metadata": {},
   "outputs": [
    {
     "data": {
      "text/plain": [
       "0"
      ]
     },
     "execution_count": 122,
     "metadata": {},
     "output_type": "execute_result"
    }
   ],
   "source": [
    "np.argmin(a1)"
   ]
  },
  {
   "cell_type": "code",
   "execution_count": 123,
   "id": "d5b2f17f",
   "metadata": {},
   "outputs": [
    {
     "data": {
      "text/plain": [
       "2"
      ]
     },
     "execution_count": 123,
     "metadata": {},
     "output_type": "execute_result"
    }
   ],
   "source": [
    "np.argmax(a1)"
   ]
  },
  {
   "cell_type": "code",
   "execution_count": 124,
   "id": "54e9bec8",
   "metadata": {},
   "outputs": [
    {
     "data": {
      "text/plain": [
       "array([[6, 1, 2, 3],\n",
       "       [3, 0, 6, 1],\n",
       "       [4, 5, 9, 2]])"
      ]
     },
     "execution_count": 124,
     "metadata": {},
     "output_type": "execute_result"
    }
   ],
   "source": [
    "random_array4"
   ]
  },
  {
   "cell_type": "code",
   "execution_count": 125,
   "id": "12cbd06e",
   "metadata": {},
   "outputs": [
    {
     "data": {
      "text/plain": [
       "10"
      ]
     },
     "execution_count": 125,
     "metadata": {},
     "output_type": "execute_result"
    }
   ],
   "source": [
    "np.argmax(random_array4)"
   ]
  },
  {
   "cell_type": "code",
   "execution_count": 126,
   "id": "57426d76",
   "metadata": {},
   "outputs": [
    {
     "data": {
      "text/plain": [
       "array([0, 2, 2], dtype=int64)"
      ]
     },
     "execution_count": 126,
     "metadata": {},
     "output_type": "execute_result"
    }
   ],
   "source": [
    "np.argmax(random_array4, axis=1)\n",
    "# gives max number index on each row"
   ]
  },
  {
   "cell_type": "code",
   "execution_count": 127,
   "id": "fc1a7ba4",
   "metadata": {},
   "outputs": [
    {
     "data": {
      "text/plain": [
       "array([0, 2, 2, 0], dtype=int64)"
      ]
     },
     "execution_count": 127,
     "metadata": {},
     "output_type": "execute_result"
    }
   ],
   "source": [
    "np.argmax(random_array4, axis=0)\n",
    "# gives max num from each column"
   ]
  },
  {
   "cell_type": "markdown",
   "id": "81e15fa5",
   "metadata": {},
   "source": [
    "# Practical Example - Numpy in Action!!!!"
   ]
  },
  {
   "cell_type": "markdown",
   "id": "9f12cd1b",
   "metadata": {},
   "source": [
    "![](panda.png)"
   ]
  },
  {
   "cell_type": "code",
   "execution_count": 138,
   "id": "f239f6b4",
   "metadata": {},
   "outputs": [
    {
     "data": {
      "text/plain": [
       "numpy.ndarray"
      ]
     },
     "execution_count": 138,
     "metadata": {},
     "output_type": "execute_result"
    }
   ],
   "source": [
    "# Turn an image to Numpy array\n",
    "from matplotlib.image import imread # image read\n",
    "\n",
    "panda = imread(fname='panda.png')\n",
    "type(panda)"
   ]
  },
  {
   "cell_type": "code",
   "execution_count": 141,
   "id": "18c96669",
   "metadata": {},
   "outputs": [],
   "source": [
    "# As it returns in ndarray we can use experiment with it & find patterns"
   ]
  },
  {
   "cell_type": "code",
   "execution_count": 142,
   "id": "44a77c71",
   "metadata": {},
   "outputs": [
    {
     "data": {
      "text/plain": [
       "((2330, 3500, 3), 24465000, 3)"
      ]
     },
     "execution_count": 142,
     "metadata": {},
     "output_type": "execute_result"
    }
   ],
   "source": [
    "panda.shape, panda.size, panda.ndim"
   ]
  },
  {
   "cell_type": "code",
   "execution_count": 144,
   "id": "bc085c59",
   "metadata": {},
   "outputs": [
    {
     "data": {
      "text/plain": [
       "array([[[0.05490196, 0.10588235, 0.06666667],\n",
       "        [0.05490196, 0.10588235, 0.06666667],\n",
       "        [0.05490196, 0.10588235, 0.06666667],\n",
       "        ...,\n",
       "        [0.16470589, 0.12941177, 0.09411765],\n",
       "        [0.16470589, 0.12941177, 0.09411765],\n",
       "        [0.16470589, 0.12941177, 0.09411765]]], dtype=float32)"
      ]
     },
     "execution_count": 144,
     "metadata": {},
     "output_type": "execute_result"
    }
   ],
   "source": [
    "panda[:1]"
   ]
  },
  {
   "cell_type": "markdown",
   "id": "f6e1691b",
   "metadata": {},
   "source": [
    "**these values are rgb values to color the pixel**"
   ]
  },
  {
   "cell_type": "code",
   "execution_count": 154,
   "id": "2871fc05",
   "metadata": {},
   "outputs": [],
   "source": [
    "# lets sort the color of panda\n",
    "sorted_img = np.sort(panda)"
   ]
  },
  {
   "cell_type": "code",
   "execution_count": 155,
   "id": "6368f124",
   "metadata": {},
   "outputs": [],
   "source": [
    "from PIL import Image\n",
    "i = Image.fromarray(sorted_img, mode='RGB')\n",
    "i.save(fp='npSortedpanda.png', format='png')"
   ]
  },
  {
   "cell_type": "markdown",
   "id": "e78716bf",
   "metadata": {},
   "source": [
    "![](npSortedpanda.png)"
   ]
  },
  {
   "cell_type": "code",
   "execution_count": null,
   "id": "cf4512ab",
   "metadata": {},
   "outputs": [],
   "source": []
  }
 ],
 "metadata": {
  "kernelspec": {
   "display_name": "Python 3 (ipykernel)",
   "language": "python",
   "name": "python3"
  },
  "language_info": {
   "codemirror_mode": {
    "name": "ipython",
    "version": 3
   },
   "file_extension": ".py",
   "mimetype": "text/x-python",
   "name": "python",
   "nbconvert_exporter": "python",
   "pygments_lexer": "ipython3",
   "version": "3.9.6"
  }
 },
 "nbformat": 4,
 "nbformat_minor": 5
}
