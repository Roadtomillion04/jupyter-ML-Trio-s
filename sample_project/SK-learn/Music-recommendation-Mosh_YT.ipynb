{
 "cells": [
  {
   "cell_type": "code",
   "execution_count": null,
   "id": "02d617a4",
   "metadata": {},
   "outputs": [],
   "source": [
    "# we are using Descision Trees\n",
    "# Row details are aslo called Samples!"
   ]
  },
  {
   "cell_type": "code",
   "execution_count": 9,
   "id": "9a5351b7",
   "metadata": {},
   "outputs": [
    {
     "data": {
      "text/plain": [
       "array(['HipHop', 'Dance'], dtype=object)"
      ]
     },
     "execution_count": 9,
     "metadata": {},
     "output_type": "execute_result"
    }
   ],
   "source": [
    "import pandas as pd\n",
    "from sklearn.tree import DecisionTreeClassifier\n",
    "\n",
    "music_data = pd.read_csv('music.csv')\n",
    "X = music_data.drop(columns='genre') # input\n",
    "y = music_data['genre'] # output\n",
    "\n",
    "model = DecisionTreeClassifier()\n",
    "model.fit(X = X, y = y) \n",
    "predictions = model.predict([ [21, 1], [24, 0] ])\n",
    "predictions"
   ]
  },
  {
   "cell_type": "code",
   "execution_count": null,
   "id": "4d02c4f4",
   "metadata": {},
   "outputs": [],
   "source": []
  }
 ],
 "metadata": {
  "kernelspec": {
   "display_name": "Python 3 (ipykernel)",
   "language": "python",
   "name": "python3"
  },
  "language_info": {
   "codemirror_mode": {
    "name": "ipython",
    "version": 3
   },
   "file_extension": ".py",
   "mimetype": "text/x-python",
   "name": "python",
   "nbconvert_exporter": "python",
   "pygments_lexer": "ipython3",
   "version": "3.9.6"
  }
 },
 "nbformat": 4,
 "nbformat_minor": 5
}
